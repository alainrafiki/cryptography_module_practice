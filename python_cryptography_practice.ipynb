{
 "cells": [
  {
   "cell_type": "markdown",
   "metadata": {},
   "source": [
    "This is a little practice following the tutorial on [Geeks for Geeks](https://www.geeksforgeeks.org/encrypt-and-decrypt-files-using-python/)"
   ]
  },
  {
   "cell_type": "code",
   "execution_count": 5,
   "metadata": {},
   "outputs": [],
   "source": [
    "from cryptography.fernet import Fernet"
   ]
  },
  {
   "cell_type": "code",
   "execution_count": 6,
   "metadata": {},
   "outputs": [],
   "source": [
    "# Generate the key\n",
    "fernet_key = Fernet.generate_key()\n",
    "\n",
    "# Write the key in a file\n",
    "with open(\"keyfile.key\", \"wb\") as keyfile:\n",
    "    keyfile.write(fernet_key)"
   ]
  },
  {
   "cell_type": "markdown",
   "metadata": {},
   "source": [
    "Now we have an encrypted key and file to be encrypted. Now write code to encrypt this file:\n",
    "\n",
    "- Open the file that contains the key.\n",
    "- Initialize the Fernet object and store it in the fernet variable.\n",
    "- Read the original file.\n",
    "- Encrypt the file and store it into an object.\n",
    "- Then write the encrypted data into the same file nba.csv."
   ]
  },
  {
   "cell_type": "code",
   "execution_count": 7,
   "metadata": {},
   "outputs": [],
   "source": [
    "# open the key\n",
    "with open(\"keyfile.key\", \"rb\") as keyfile:\n",
    "    fernet_key = keyfile.read()\n",
    "\n",
    "# Using the generated key, initialize the Fernet object\n",
    "fernet_object = Fernet(key=fernet_key)\n",
    "\n",
    "# Let's open the original file to encrypt\n",
    "with open(\"nba_data_set.csv\", \"rb\") as original_file:\n",
    "    original_data = original_file.read()\n",
    "\n",
    "# Encrypt the data\n",
    "encrypted_data = fernet_object.encrypt(data=original_data)\n",
    "\n",
    "# Open the file in write mode and write the encrypted data into the file\n",
    "with open(\"nba_data_set.csv\", \"wb\") as encrypted_file:\n",
    "    encrypted_file.write(encrypted_data)\n"
   ]
  }
 ],
 "metadata": {
  "kernelspec": {
   "display_name": "Python 3.9.0 64-bit",
   "language": "python",
   "name": "python3"
  },
  "language_info": {
   "codemirror_mode": {
    "name": "ipython",
    "version": 3
   },
   "file_extension": ".py",
   "mimetype": "text/x-python",
   "name": "python",
   "nbconvert_exporter": "python",
   "pygments_lexer": "ipython3",
   "version": "3.9.0"
  },
  "orig_nbformat": 4,
  "vscode": {
   "interpreter": {
    "hash": "aee8b7b246df8f9039afb4144a1f6fd8d2ca17a180786b69acc140d282b71a49"
   }
  }
 },
 "nbformat": 4,
 "nbformat_minor": 2
}
